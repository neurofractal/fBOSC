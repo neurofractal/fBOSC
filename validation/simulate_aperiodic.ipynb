{
 "cells": [
  {
   "cell_type": "markdown",
   "metadata": {},
   "source": [
    "## This code will simulate the non-linear 1/f data using the neurodsp toolbox"
   ]
  },
  {
   "cell_type": "code",
   "execution_count": null,
   "metadata": {},
   "outputs": [],
   "source": [
    "# Import sim functions\n",
    "from neurodsp.sim import sim_powerlaw, sim_random_walk, sim_synaptic_current\n",
    "from neurodsp.utils import set_random_seed\n",
    "\n",
    "# Import function to compute power spectra\n",
    "from neurodsp.spectral import compute_spectrum\n",
    "\n",
    "# Import utilities for plotting data\n",
    "from neurodsp.utils import create_times\n",
    "from neurodsp.plts.spectral import plot_power_spectra\n",
    "from neurodsp.plts.time_series import plot_time_series\n",
    "\n",
    "import numpy as np\n",
    "from scipy import io\n",
    "import random"
   ]
  },
  {
   "cell_type": "code",
   "execution_count": 3,
   "metadata": {},
   "outputs": [
    {
     "ename": "IndentationError",
     "evalue": "unexpected indent (<ipython-input-3-f5362eea289d>, line 11)",
     "output_type": "error",
     "traceback": [
      "\u001b[0;36m  File \u001b[0;32m\"<ipython-input-3-f5362eea289d>\"\u001b[0;36m, line \u001b[0;32m11\u001b[0m\n\u001b[0;31m    freqs, syn_psd = compute_spectrum(syn_ap, fs)\u001b[0m\n\u001b[0m    ^\u001b[0m\n\u001b[0;31mIndentationError\u001b[0m\u001b[0;31m:\u001b[0m unexpected indent\n"
     ]
    }
   ],
   "source": [
    "synaptic = []\n",
    "n_seconds = 20\n",
    "fs = 500\n",
    "set_random_seed(0)\n",
    "\n",
    "for i in range(0,200):\n",
    "    # Set the random seed, for consistency simulating data\n",
    "    syn_ap = sim_synaptic_current(n_seconds, fs,firing_rate=fr)\n",
    "    # Vary firing rate between 1.7 and 2.4 for each trial\n",
    "    fr = random.uniform(1.7,2.4)\n",
    "\n",
    "    synaptic.append(syn_ap.tolist())\n",
    "    \n",
    "synaptic = np.array(synaptic)\n",
    "synaptic.shape\n",
    "\n",
    "data={'synaptic':synaptic}\n",
    "io.savemat('synaptic.mat',data)"
   ]
  }
 ],
 "metadata": {
  "kernelspec": {
   "display_name": "Python 3",
   "language": "python",
   "name": "python3"
  },
  "language_info": {
   "codemirror_mode": {
    "name": "ipython",
    "version": 3
   },
   "file_extension": ".py",
   "mimetype": "text/x-python",
   "name": "python",
   "nbconvert_exporter": "python",
   "pygments_lexer": "ipython3",
   "version": "3.5.6"
  }
 },
 "nbformat": 4,
 "nbformat_minor": 4
}
